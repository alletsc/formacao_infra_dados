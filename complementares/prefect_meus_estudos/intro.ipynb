{
 "cells": [
  {
   "cell_type": "code",
   "execution_count": 8,
   "metadata": {},
   "outputs": [
    {
     "name": "stdout",
     "output_type": "stream",
     "text": [
      "[2022-10-25 11:49:54-0300] INFO - prefect.FlowRunner | Beginning Flow run for 'My First Flow'\n",
      "[2022-10-25 11:49:54-0300] INFO - prefect.TaskRunner | Task 'name': Starting task run...\n",
      "[2022-10-25 11:49:54-0300] INFO - prefect.TaskRunner | Task 'name': Finished task run for task with final state: 'Success'\n",
      "[2022-10-25 11:49:54-0300] INFO - prefect.TaskRunner | Task 'say_hello': Starting task run...\n",
      "[2022-10-25 11:49:54-0300] INFO - prefect.TaskRunner | Hello, world!\n",
      "[2022-10-25 11:49:54-0300] INFO - prefect.TaskRunner | Task 'say_hello': Finished task run for task with final state: 'Success'\n",
      "[2022-10-25 11:49:54-0300] INFO - prefect.FlowRunner | Flow run SUCCESS: all reference tasks succeeded\n",
      "[2022-10-25 11:49:54-0300] INFO - prefect.FlowRunner | Beginning Flow run for 'My First Flow'\n",
      "[2022-10-25 11:49:54-0300] INFO - prefect.TaskRunner | Task 'name': Starting task run...\n",
      "[2022-10-25 11:49:54-0300] INFO - prefect.TaskRunner | Task 'name': Finished task run for task with final state: 'Success'\n",
      "[2022-10-25 11:49:54-0300] INFO - prefect.TaskRunner | Task 'say_hello': Starting task run...\n",
      "[2022-10-25 11:49:54-0300] INFO - prefect.TaskRunner | Hello, Marvin!\n",
      "[2022-10-25 11:49:54-0300] INFO - prefect.TaskRunner | Task 'say_hello': Finished task run for task with final state: 'Success'\n",
      "[2022-10-25 11:49:54-0300] INFO - prefect.FlowRunner | Flow run SUCCESS: all reference tasks succeeded\n"
     ]
    },
    {
     "data": {
      "text/plain": [
       "<Success: \"All reference tasks succeeded.\">"
      ]
     },
     "execution_count": 8,
     "metadata": {},
     "output_type": "execute_result"
    }
   ],
   "source": [
    "from prefect import task, Flow, Parameter\n",
    "\n",
    "\n",
    "@task(log_stdout=True)\n",
    "def say_hello(name):\n",
    "    print(\"Hello, {}!\".format(name))\n",
    "\n",
    "\n",
    "with Flow(\"My First Flow\") as flow:\n",
    "    name = Parameter('name')\n",
    "    say_hello(name)\n",
    "\n",
    "\n",
    "flow.run(name='world') # \"Hello, world!\"\n",
    "flow.run(name='Marvin') # \"Hello, Marvin!\"\n"
   ]
  },
  {
   "cell_type": "code",
   "execution_count": 9,
   "metadata": {},
   "outputs": [],
   "source": [
    "# Ola mundo\n",
    "from prefect import task, Flow, Parameter"
   ]
  },
  {
   "cell_type": "code",
   "execution_count": 10,
   "metadata": {},
   "outputs": [],
   "source": [
    "@task(log_stdout=True)\n",
    "def say_hello(name):\n",
    "    print(f\"Hello, {name}, welcome to prefect world!\")"
   ]
  },
  {
   "cell_type": "code",
   "execution_count": 11,
   "metadata": {},
   "outputs": [],
   "source": [
    "with Flow(\"My first flow!\") as flow:\n",
    "    name = Parameter('name')\n",
    "    say_hello(name)"
   ]
  },
  {
   "cell_type": "code",
   "execution_count": 12,
   "metadata": {},
   "outputs": [
    {
     "name": "stdout",
     "output_type": "stream",
     "text": [
      "[2022-10-25 11:49:54-0300] INFO - prefect.FlowRunner | Beginning Flow run for 'My first flow!'\n",
      "[2022-10-25 11:49:54-0300] INFO - prefect.TaskRunner | Task 'name': Starting task run...\n",
      "[2022-10-25 11:49:54-0300] INFO - prefect.TaskRunner | Task 'name': Finished task run for task with final state: 'Success'\n",
      "[2022-10-25 11:49:54-0300] INFO - prefect.TaskRunner | Task 'say_hello': Starting task run...\n",
      "[2022-10-25 11:49:54-0300] INFO - prefect.TaskRunner | Hello, world, welcome to prefect world!\n",
      "[2022-10-25 11:49:54-0300] INFO - prefect.TaskRunner | Task 'say_hello': Finished task run for task with final state: 'Success'\n",
      "[2022-10-25 11:49:54-0300] INFO - prefect.FlowRunner | Flow run SUCCESS: all reference tasks succeeded\n"
     ]
    },
    {
     "data": {
      "text/plain": [
       "<Success: \"All reference tasks succeeded.\">"
      ]
     },
     "execution_count": 12,
     "metadata": {},
     "output_type": "execute_result"
    }
   ],
   "source": [
    "flow.run(name='world')"
   ]
  },
  {
   "cell_type": "code",
   "execution_count": 13,
   "metadata": {},
   "outputs": [
    {
     "name": "stdout",
     "output_type": "stream",
     "text": [
      "[2022-10-25 11:49:54-0300] INFO - prefect.FlowRunner | Beginning Flow run for 'My first flow!'\n",
      "[2022-10-25 11:49:54-0300] INFO - prefect.TaskRunner | Task 'name': Starting task run...\n",
      "[2022-10-25 11:49:54-0300] INFO - prefect.TaskRunner | Task 'name': Finished task run for task with final state: 'Success'\n",
      "[2022-10-25 11:49:54-0300] INFO - prefect.TaskRunner | Task 'say_hello': Starting task run...\n",
      "[2022-10-25 11:49:54-0300] INFO - prefect.TaskRunner | Hello, Marvin, welcome to prefect world!\n",
      "[2022-10-25 11:49:54-0300] INFO - prefect.TaskRunner | Task 'say_hello': Finished task run for task with final state: 'Success'\n",
      "[2022-10-25 11:49:54-0300] INFO - prefect.FlowRunner | Flow run SUCCESS: all reference tasks succeeded\n"
     ]
    },
    {
     "data": {
      "text/plain": [
       "<Success: \"All reference tasks succeeded.\">"
      ]
     },
     "execution_count": 13,
     "metadata": {},
     "output_type": "execute_result"
    }
   ],
   "source": [
    "flow.run(name='Marvin')"
   ]
  },
  {
   "cell_type": "code",
   "execution_count": 14,
   "metadata": {},
   "outputs": [],
   "source": [
    "import prefect\n",
    "\n",
    "\n",
    "@task\n",
    "def hello_task():\n",
    "    logger = prefect.context.get(\"logger\")\n",
    "    logger.info(\"Hello!\")"
   ]
  },
  {
   "cell_type": "code",
   "execution_count": 15,
   "metadata": {},
   "outputs": [],
   "source": [
    "with Flow(\"Hello_flow\") as flow:\n",
    "    hello_task()"
   ]
  },
  {
   "cell_type": "code",
   "execution_count": 16,
   "metadata": {},
   "outputs": [
    {
     "name": "stdout",
     "output_type": "stream",
     "text": [
      "[2022-10-25 11:58:28-0300] INFO - prefect.FlowRunner | Beginning Flow run for 'Hello_flow'\n",
      "[2022-10-25 11:58:28-0300] INFO - prefect.TaskRunner | Task 'hello_task': Starting task run...\n",
      "[2022-10-25 11:58:28-0300] INFO - prefect.hello_task | Hello!\n",
      "[2022-10-25 11:58:28-0300] INFO - prefect.TaskRunner | Task 'hello_task': Finished task run for task with final state: 'Success'\n",
      "[2022-10-25 11:58:28-0300] INFO - prefect.FlowRunner | Flow run SUCCESS: all reference tasks succeeded\n"
     ]
    },
    {
     "data": {
      "text/plain": [
       "<Success: \"All reference tasks succeeded.\">"
      ]
     },
     "execution_count": 16,
     "metadata": {},
     "output_type": "execute_result"
    }
   ],
   "source": [
    "flow.run()"
   ]
  },
  {
   "cell_type": "code",
   "execution_count": null,
   "metadata": {},
   "outputs": [],
   "source": []
  }
 ],
 "metadata": {
  "kernelspec": {
   "display_name": "Python 3.9.8 ('venv': venv)",
   "language": "python",
   "name": "python3"
  },
  "language_info": {
   "codemirror_mode": {
    "name": "ipython",
    "version": 3
   },
   "file_extension": ".py",
   "mimetype": "text/x-python",
   "name": "python",
   "nbconvert_exporter": "python",
   "pygments_lexer": "ipython3",
   "version": "3.9.8"
  },
  "orig_nbformat": 4,
  "vscode": {
   "interpreter": {
    "hash": "7fdd7d5741d06f79729efe82b190645822f6b264251538cd67d49ca9584186b9"
   }
  }
 },
 "nbformat": 4,
 "nbformat_minor": 2
}
